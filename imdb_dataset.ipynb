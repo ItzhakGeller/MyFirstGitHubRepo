{
  "nbformat": 4,
  "nbformat_minor": 0,
  "metadata": {
    "colab": {
      "provenance": [],
      "authorship_tag": "ABX9TyOUV/2WaF+HBS+L9uRhPQEH",
      "include_colab_link": true
    },
    "kernelspec": {
      "name": "python3",
      "display_name": "Python 3"
    },
    "language_info": {
      "name": "python"
    },
    "accelerator": "GPU",
    "gpuClass": "standard"
  },
  "cells": [
    {
      "cell_type": "markdown",
      "metadata": {
        "id": "view-in-github",
        "colab_type": "text"
      },
      "source": [
        "<a href=\"https://colab.research.google.com/github/ItzhakGeller/MyFirstGitHubRepo/blob/main/imdb_dataset.ipynb\" target=\"_parent\"><img src=\"https://colab.research.google.com/assets/colab-badge.svg\" alt=\"Open In Colab\"/></a>"
      ]
    },
    {
      "cell_type": "markdown",
      "source": [
        "#preprocess the data"
      ],
      "metadata": {
        "id": "JVQ5Qmv33sfn"
      }
    },
    {
      "cell_type": "code",
      "execution_count": null,
      "metadata": {
        "id": "WKGv-nGJwEDE"
      },
      "outputs": [],
      "source": [
        "import tensorflow as tf\n",
        "import numpy as np"
      ]
    },
    {
      "cell_type": "code",
      "source": [
        "from tensorflow.keras.datasets import imdb\n",
        "(train_data,train_labels),(test_data,test_labels) = imdb.load_data(num_words=10000)\n",
        "print(train_data[0][:10])\n",
        "print(train_labels[:10])"
      ],
      "metadata": {
        "colab": {
          "base_uri": "https://localhost:8080/"
        },
        "id": "y2fMJUH-wKwM",
        "outputId": "1d9969de-b9ad-4035-f5e0-5ac474d9588e"
      },
      "execution_count": null,
      "outputs": [
        {
          "output_type": "stream",
          "name": "stdout",
          "text": [
            "Downloading data from https://storage.googleapis.com/tensorflow/tf-keras-datasets/imdb.npz\n",
            "17464789/17464789 [==============================] - 0s 0us/step\n",
            "[1, 14, 22, 16, 43, 530, 973, 1622, 1385, 65]\n",
            "[1 0 0 1 0 0 1 0 1 0]\n"
          ]
        }
      ]
    },
    {
      "cell_type": "code",
      "source": [
        "imdb_dict = imdb.get_word_index()"
      ],
      "metadata": {
        "colab": {
          "base_uri": "https://localhost:8080/"
        },
        "id": "hZVEz2zswWVi",
        "outputId": "95332cf2-2864-4ba5-99e1-038e94540e0e"
      },
      "execution_count": null,
      "outputs": [
        {
          "output_type": "stream",
          "name": "stdout",
          "text": [
            "Downloading data from https://storage.googleapis.com/tensorflow/tf-keras-datasets/imdb_word_index.json\n",
            "1641221/1641221 [==============================] - 0s 0us/step\n"
          ]
        }
      ]
    },
    {
      "cell_type": "code",
      "source": [
        "revrerse_dict = dict([(value,key) for (key, value) in imdb_dict.items()])"
      ],
      "metadata": {
        "id": "kuqhKdB5wstf"
      },
      "execution_count": null,
      "outputs": []
    },
    {
      "cell_type": "code",
      "source": [
        "#[revrerse_dict.get(i-3) for i in train_data[0]]"
      ],
      "metadata": {
        "id": "riG7vj_Hxq0v"
      },
      "execution_count": null,
      "outputs": []
    },
    {
      "cell_type": "markdown",
      "source": [
        "Vecrotize the data"
      ],
      "metadata": {
        "id": "RCYdsVrbyTwa"
      }
    },
    {
      "cell_type": "code",
      "source": [
        "def vectorize_data(sequences,num_words=10000):\n",
        "  vectorized = np.zeros((len(sequences),num_words))\n",
        "  for i,sequence in enumerate(sequences):\n",
        "    for j in sequence:\n",
        "      vectorized[i,j] = 1\n",
        "  return vectorized.astype(np.float32)"
      ],
      "metadata": {
        "id": "fBQhy0p70O1W"
      },
      "execution_count": null,
      "outputs": []
    },
    {
      "cell_type": "code",
      "source": [
        "train_data_vectorized = vectorize_data(train_data)\n",
        "test_data_vectorized = vectorize_data(test_data)"
      ],
      "metadata": {
        "id": "7A2qn68N1Y4e"
      },
      "execution_count": null,
      "outputs": []
    },
    {
      "cell_type": "code",
      "source": [
        "print(train_data_vectorized.shape)\n",
        "print(train_data.dtype)"
      ],
      "metadata": {
        "colab": {
          "base_uri": "https://localhost:8080/"
        },
        "id": "wvaAX6Qf1jS1",
        "outputId": "7ac3f97b-0a45-4226-fc3f-eb6778418a75"
      },
      "execution_count": null,
      "outputs": [
        {
          "output_type": "stream",
          "name": "stdout",
          "text": [
            "(25000, 10000)\n",
            "object\n"
          ]
        }
      ]
    },
    {
      "cell_type": "code",
      "source": [
        "y_train = np.asarray(train_labels).astype(np.float32)\n",
        "y_test = np.asarray(test_labels).astype(np.float32)"
      ],
      "metadata": {
        "id": "aH1YkRBF2448"
      },
      "execution_count": null,
      "outputs": []
    },
    {
      "cell_type": "markdown",
      "source": [
        "# Buildin the model"
      ],
      "metadata": {
        "id": "syQqZfpW28F4"
      }
    },
    {
      "cell_type": "code",
      "source": [
        "from tensorflow import keras\n",
        "from tensorflow.keras import layers\n",
        "model = keras.Sequential([\n",
        "    layers.Dense(16, activation = \"relu\"),\n",
        "    layers.Dense(16, activation= \"relu\"),\n",
        "    layers.Dense(1,activation=\"sigmoid\")\n",
        "])"
      ],
      "metadata": {
        "id": "_Q7NX3Xw33Ub"
      },
      "execution_count": null,
      "outputs": []
    },
    {
      "cell_type": "code",
      "source": [
        "model.compile(\n",
        "    loss = \"binary_crossentropy\",\n",
        "    optimizer=\"rmsprop\",\n",
        "    metrics = [\"accuracy\"])"
      ],
      "metadata": {
        "id": "dnGexm1x4ech"
      },
      "execution_count": null,
      "outputs": []
    },
    {
      "cell_type": "code",
      "source": [
        "history = model.fit(x=train_data_vectorized,y=y_train,\n",
        "          validation_data=(test_data_vectorized,y_test),\n",
        "          epochs=20,\n",
        "          batch_size=512)"
      ],
      "metadata": {
        "colab": {
          "base_uri": "https://localhost:8080/"
        },
        "id": "1sYnwXgc49JT",
        "outputId": "6bb5e4e5-a034-449f-b0e9-7c3a83bf6b55"
      },
      "execution_count": null,
      "outputs": [
        {
          "output_type": "stream",
          "name": "stdout",
          "text": [
            "Epoch 1/20\n",
            "49/49 [==============================] - 10s 87ms/step - loss: 0.4546 - accuracy: 0.8180 - val_loss: 0.3393 - val_accuracy: 0.8766\n",
            "Epoch 2/20\n",
            "49/49 [==============================] - 1s 28ms/step - loss: 0.2696 - accuracy: 0.9036 - val_loss: 0.2851 - val_accuracy: 0.8901\n",
            "Epoch 3/20\n",
            "49/49 [==============================] - 1s 27ms/step - loss: 0.2094 - accuracy: 0.9238 - val_loss: 0.2777 - val_accuracy: 0.8887\n",
            "Epoch 4/20\n",
            "49/49 [==============================] - 1s 27ms/step - loss: 0.1808 - accuracy: 0.9348 - val_loss: 0.2963 - val_accuracy: 0.8813\n",
            "Epoch 5/20\n",
            "49/49 [==============================] - 1s 27ms/step - loss: 0.1558 - accuracy: 0.9447 - val_loss: 0.3105 - val_accuracy: 0.8794\n",
            "Epoch 6/20\n",
            "49/49 [==============================] - 1s 26ms/step - loss: 0.1405 - accuracy: 0.9510 - val_loss: 0.3189 - val_accuracy: 0.8782\n",
            "Epoch 7/20\n",
            "49/49 [==============================] - 1s 27ms/step - loss: 0.1266 - accuracy: 0.9565 - val_loss: 0.3601 - val_accuracy: 0.8686\n",
            "Epoch 8/20\n",
            "49/49 [==============================] - 1s 27ms/step - loss: 0.1114 - accuracy: 0.9613 - val_loss: 0.3606 - val_accuracy: 0.8727\n",
            "Epoch 9/20\n",
            "49/49 [==============================] - 1s 27ms/step - loss: 0.1023 - accuracy: 0.9662 - val_loss: 0.3907 - val_accuracy: 0.8672\n",
            "Epoch 10/20\n",
            "49/49 [==============================] - 2s 33ms/step - loss: 0.0929 - accuracy: 0.9681 - val_loss: 0.3948 - val_accuracy: 0.8682\n",
            "Epoch 11/20\n",
            "49/49 [==============================] - 1s 27ms/step - loss: 0.0829 - accuracy: 0.9727 - val_loss: 0.4204 - val_accuracy: 0.8656\n",
            "Epoch 12/20\n",
            "49/49 [==============================] - 1s 27ms/step - loss: 0.0755 - accuracy: 0.9751 - val_loss: 0.4371 - val_accuracy: 0.8655\n",
            "Epoch 13/20\n",
            "49/49 [==============================] - 1s 27ms/step - loss: 0.0679 - accuracy: 0.9786 - val_loss: 0.4578 - val_accuracy: 0.8652\n",
            "Epoch 14/20\n",
            "49/49 [==============================] - 1s 25ms/step - loss: 0.0591 - accuracy: 0.9824 - val_loss: 0.4781 - val_accuracy: 0.8631\n",
            "Epoch 15/20\n",
            "49/49 [==============================] - 1s 27ms/step - loss: 0.0529 - accuracy: 0.9846 - val_loss: 0.5043 - val_accuracy: 0.8616\n",
            "Epoch 16/20\n",
            "49/49 [==============================] - 1s 26ms/step - loss: 0.0474 - accuracy: 0.9863 - val_loss: 0.5272 - val_accuracy: 0.8613\n",
            "Epoch 17/20\n",
            "49/49 [==============================] - 1s 27ms/step - loss: 0.0396 - accuracy: 0.9895 - val_loss: 0.5764 - val_accuracy: 0.8556\n",
            "Epoch 18/20\n",
            "49/49 [==============================] - 1s 26ms/step - loss: 0.0374 - accuracy: 0.9904 - val_loss: 0.5863 - val_accuracy: 0.8586\n",
            "Epoch 19/20\n",
            "49/49 [==============================] - 2s 43ms/step - loss: 0.0285 - accuracy: 0.9937 - val_loss: 0.6091 - val_accuracy: 0.8590\n",
            "Epoch 20/20\n",
            "49/49 [==============================] - 1s 26ms/step - loss: 0.0269 - accuracy: 0.9935 - val_loss: 0.6375 - val_accuracy: 0.8584\n"
          ]
        }
      ]
    },
    {
      "cell_type": "code",
      "source": [
        "train_data_vectorized.dtype"
      ],
      "metadata": {
        "colab": {
          "base_uri": "https://localhost:8080/"
        },
        "id": "4GgApBdJ5avw",
        "outputId": "3bff939b-5935-4385-c089-4327ff450df1"
      },
      "execution_count": null,
      "outputs": [
        {
          "output_type": "execute_result",
          "data": {
            "text/plain": [
              "dtype('float32')"
            ]
          },
          "metadata": {},
          "execution_count": 13
        }
      ]
    },
    {
      "cell_type": "code",
      "source": [
        "import pandas as pd\n",
        "model_data = pd.DataFrame(history.history)\n",
        "model_data.head()"
      ],
      "metadata": {
        "colab": {
          "base_uri": "https://localhost:8080/",
          "height": 206
        },
        "id": "uQLzHpkZ6Poy",
        "outputId": "82f6e6a8-7d46-4fc2-e31e-76bec7074636"
      },
      "execution_count": null,
      "outputs": [
        {
          "output_type": "execute_result",
          "data": {
            "text/plain": [
              "       loss  accuracy  val_loss  val_accuracy\n",
              "0  0.454621   0.81800  0.339291       0.87656\n",
              "1  0.269570   0.90364  0.285103       0.89008\n",
              "2  0.209412   0.92376  0.277726       0.88872\n",
              "3  0.180773   0.93476  0.296305       0.88132\n",
              "4  0.155819   0.94472  0.310494       0.87940"
            ],
            "text/html": [
              "\n",
              "  <div id=\"df-2f79a3bc-1b9a-4604-86a4-6b138143b9df\">\n",
              "    <div class=\"colab-df-container\">\n",
              "      <div>\n",
              "<style scoped>\n",
              "    .dataframe tbody tr th:only-of-type {\n",
              "        vertical-align: middle;\n",
              "    }\n",
              "\n",
              "    .dataframe tbody tr th {\n",
              "        vertical-align: top;\n",
              "    }\n",
              "\n",
              "    .dataframe thead th {\n",
              "        text-align: right;\n",
              "    }\n",
              "</style>\n",
              "<table border=\"1\" class=\"dataframe\">\n",
              "  <thead>\n",
              "    <tr style=\"text-align: right;\">\n",
              "      <th></th>\n",
              "      <th>loss</th>\n",
              "      <th>accuracy</th>\n",
              "      <th>val_loss</th>\n",
              "      <th>val_accuracy</th>\n",
              "    </tr>\n",
              "  </thead>\n",
              "  <tbody>\n",
              "    <tr>\n",
              "      <th>0</th>\n",
              "      <td>0.454621</td>\n",
              "      <td>0.81800</td>\n",
              "      <td>0.339291</td>\n",
              "      <td>0.87656</td>\n",
              "    </tr>\n",
              "    <tr>\n",
              "      <th>1</th>\n",
              "      <td>0.269570</td>\n",
              "      <td>0.90364</td>\n",
              "      <td>0.285103</td>\n",
              "      <td>0.89008</td>\n",
              "    </tr>\n",
              "    <tr>\n",
              "      <th>2</th>\n",
              "      <td>0.209412</td>\n",
              "      <td>0.92376</td>\n",
              "      <td>0.277726</td>\n",
              "      <td>0.88872</td>\n",
              "    </tr>\n",
              "    <tr>\n",
              "      <th>3</th>\n",
              "      <td>0.180773</td>\n",
              "      <td>0.93476</td>\n",
              "      <td>0.296305</td>\n",
              "      <td>0.88132</td>\n",
              "    </tr>\n",
              "    <tr>\n",
              "      <th>4</th>\n",
              "      <td>0.155819</td>\n",
              "      <td>0.94472</td>\n",
              "      <td>0.310494</td>\n",
              "      <td>0.87940</td>\n",
              "    </tr>\n",
              "  </tbody>\n",
              "</table>\n",
              "</div>\n",
              "      <button class=\"colab-df-convert\" onclick=\"convertToInteractive('df-2f79a3bc-1b9a-4604-86a4-6b138143b9df')\"\n",
              "              title=\"Convert this dataframe to an interactive table.\"\n",
              "              style=\"display:none;\">\n",
              "        \n",
              "  <svg xmlns=\"http://www.w3.org/2000/svg\" height=\"24px\"viewBox=\"0 0 24 24\"\n",
              "       width=\"24px\">\n",
              "    <path d=\"M0 0h24v24H0V0z\" fill=\"none\"/>\n",
              "    <path d=\"M18.56 5.44l.94 2.06.94-2.06 2.06-.94-2.06-.94-.94-2.06-.94 2.06-2.06.94zm-11 1L8.5 8.5l.94-2.06 2.06-.94-2.06-.94L8.5 2.5l-.94 2.06-2.06.94zm10 10l.94 2.06.94-2.06 2.06-.94-2.06-.94-.94-2.06-.94 2.06-2.06.94z\"/><path d=\"M17.41 7.96l-1.37-1.37c-.4-.4-.92-.59-1.43-.59-.52 0-1.04.2-1.43.59L10.3 9.45l-7.72 7.72c-.78.78-.78 2.05 0 2.83L4 21.41c.39.39.9.59 1.41.59.51 0 1.02-.2 1.41-.59l7.78-7.78 2.81-2.81c.8-.78.8-2.07 0-2.86zM5.41 20L4 18.59l7.72-7.72 1.47 1.35L5.41 20z\"/>\n",
              "  </svg>\n",
              "      </button>\n",
              "      \n",
              "  <style>\n",
              "    .colab-df-container {\n",
              "      display:flex;\n",
              "      flex-wrap:wrap;\n",
              "      gap: 12px;\n",
              "    }\n",
              "\n",
              "    .colab-df-convert {\n",
              "      background-color: #E8F0FE;\n",
              "      border: none;\n",
              "      border-radius: 50%;\n",
              "      cursor: pointer;\n",
              "      display: none;\n",
              "      fill: #1967D2;\n",
              "      height: 32px;\n",
              "      padding: 0 0 0 0;\n",
              "      width: 32px;\n",
              "    }\n",
              "\n",
              "    .colab-df-convert:hover {\n",
              "      background-color: #E2EBFA;\n",
              "      box-shadow: 0px 1px 2px rgba(60, 64, 67, 0.3), 0px 1px 3px 1px rgba(60, 64, 67, 0.15);\n",
              "      fill: #174EA6;\n",
              "    }\n",
              "\n",
              "    [theme=dark] .colab-df-convert {\n",
              "      background-color: #3B4455;\n",
              "      fill: #D2E3FC;\n",
              "    }\n",
              "\n",
              "    [theme=dark] .colab-df-convert:hover {\n",
              "      background-color: #434B5C;\n",
              "      box-shadow: 0px 1px 3px 1px rgba(0, 0, 0, 0.15);\n",
              "      filter: drop-shadow(0px 1px 2px rgba(0, 0, 0, 0.3));\n",
              "      fill: #FFFFFF;\n",
              "    }\n",
              "  </style>\n",
              "\n",
              "      <script>\n",
              "        const buttonEl =\n",
              "          document.querySelector('#df-2f79a3bc-1b9a-4604-86a4-6b138143b9df button.colab-df-convert');\n",
              "        buttonEl.style.display =\n",
              "          google.colab.kernel.accessAllowed ? 'block' : 'none';\n",
              "\n",
              "        async function convertToInteractive(key) {\n",
              "          const element = document.querySelector('#df-2f79a3bc-1b9a-4604-86a4-6b138143b9df');\n",
              "          const dataTable =\n",
              "            await google.colab.kernel.invokeFunction('convertToInteractive',\n",
              "                                                     [key], {});\n",
              "          if (!dataTable) return;\n",
              "\n",
              "          const docLinkHtml = 'Like what you see? Visit the ' +\n",
              "            '<a target=\"_blank\" href=https://colab.research.google.com/notebooks/data_table.ipynb>data table notebook</a>'\n",
              "            + ' to learn more about interactive tables.';\n",
              "          element.innerHTML = '';\n",
              "          dataTable['output_type'] = 'display_data';\n",
              "          await google.colab.output.renderOutput(dataTable, element);\n",
              "          const docLink = document.createElement('div');\n",
              "          docLink.innerHTML = docLinkHtml;\n",
              "          element.appendChild(docLink);\n",
              "        }\n",
              "      </script>\n",
              "    </div>\n",
              "  </div>\n",
              "  "
            ]
          },
          "metadata": {},
          "execution_count": 14
        }
      ]
    },
    {
      "cell_type": "code",
      "source": [
        "model_data.plot()"
      ],
      "metadata": {
        "colab": {
          "base_uri": "https://localhost:8080/",
          "height": 282
        },
        "id": "7H4pvaYGN8j4",
        "outputId": "f03a7a8c-1394-4302-acf1-689c99f541b8"
      },
      "execution_count": null,
      "outputs": [
        {
          "output_type": "execute_result",
          "data": {
            "text/plain": [
              "<AxesSubplot:>"
            ]
          },
          "metadata": {},
          "execution_count": 15
        },
        {
          "output_type": "display_data",
          "data": {
            "text/plain": [
              "<Figure size 432x288 with 1 Axes>"
            ],
            "image/png": "[encoded data removed]"
          },
          "metadata": {
            "needs_background": "light"
          }
        }
      ]
    },
    {
      "cell_type": "code",
      "source": [
        "model.predict(train_data_vectorized[:10])"
      ],
      "metadata": {
        "colab": {
          "base_uri": "https://localhost:8080/"
        },
        "id": "6-3jvmUaOUHv",
        "outputId": "d15c352f-cf26-4835-b8ea-adecbf798332"
      },
      "execution_count": null,
      "outputs": [
        {
          "output_type": "stream",
          "name": "stdout",
          "text": [
            "1/1 [==============================] - 0s 91ms/step\n"
          ]
        },
        {
          "output_type": "execute_result",
          "data": {
            "text/plain": [
              "array([[9.9989259e-01],\n",
              "       [1.1531225e-05],\n",
              "       [1.2015397e-06],\n",
              "       [9.9999976e-01],\n",
              "       [2.1606607e-05],\n",
              "       [1.7811760e-01],\n",
              "       [9.9969506e-01],\n",
              "       [2.0140022e-13],\n",
              "       [9.9999309e-01],\n",
              "       [1.3751760e-02]], dtype=float32)"
            ]
          },
          "metadata": {},
          "execution_count": 17
        }
      ]
    },
    {
      "cell_type": "code",
      "source": [],
      "metadata": {
        "id": "VGVYgPXs8Qn6"
      },
      "execution_count": null,
      "outputs": []
    }
  ]
}