{
  "nbformat": 4,
  "nbformat_minor": 0,
  "metadata": {
    "colab": {
      "provenance": [],
      "authorship_tag": "ABX9TyOXf6dCf0v9giKFTvvATaYm",
      "include_colab_link": true
    },
    "kernelspec": {
      "name": "python3",
      "display_name": "Python 3"
    },
    "language_info": {
      "name": "python"
    },
    "accelerator": "GPU",
    "gpuClass": "standard"
  },
  "cells": [
    {
      "cell_type": "markdown",
      "metadata": {
        "id": "view-in-github",
        "colab_type": "text"
      },
      "source": [
        "<a href=\"https://colab.research.google.com/github/ItzhakGeller/MyFirstGitHubRepo/blob/main/linear_regression_with_deepl_learning_boston_housing_dataset.ipynb\" target=\"_parent\"><img src=\"https://colab.research.google.com/assets/colab-badge.svg\" alt=\"Open In Colab\"/></a>"
      ]
    },
    {
      "cell_type": "code",
      "execution_count": 1,
      "metadata": {
        "id": "YAQPsTSK-9tq"
      },
      "outputs": [],
      "source": [
        "import tensorflow as tf\n",
        "import numpy as np\n",
        "from tensorflow.keras.datasets import boston_housing"
      ]
    },
    {
      "cell_type": "code",
      "source": [
        "(train_data,train_targets),(test_data,test_targets) = boston_housing.load_data()\n",
        "print(train_data.shape,test_data.shape)\n",
        "train_data[1]"
      ],
      "metadata": {
        "colab": {
          "base_uri": "https://localhost:8080/"
        },
        "id": "qnWOKK1u_B3v",
        "outputId": "498698aa-a199-4d63-c78b-98233ca17ffb"
      },
      "execution_count": 2,
      "outputs": [
        {
          "output_type": "stream",
          "name": "stdout",
          "text": [
            "Downloading data from https://storage.googleapis.com/tensorflow/tf-keras-datasets/boston_housing.npz\n",
            "57026/57026 [==============================] - 0s 0us/step\n",
            "(404, 13) (102, 13)\n"
          ]
        },
        {
          "output_type": "execute_result",
          "data": {
            "text/plain": [
              "array([2.1770e-02, 8.2500e+01, 2.0300e+00, 0.0000e+00, 4.1500e-01,\n",
              "       7.6100e+00, 1.5700e+01, 6.2700e+00, 2.0000e+00, 3.4800e+02,\n",
              "       1.4700e+01, 3.9538e+02, 3.1100e+00])"
            ]
          },
          "metadata": {},
          "execution_count": 2
        }
      ]
    },
    {
      "cell_type": "code",
      "source": [
        "#SINCE THE DATA IS DIFFERENT IN RANGE IT IS PREFERED TO NORMALIZE IT PRIOR TO LEARNING\n",
        "mean = train_data.mean(axis=0)\n",
        "train_data -=mean\n",
        "std = train_data.std(axis=0)\n",
        "train_data /= std\n",
        "\n",
        "test_data-=mean\n",
        "test_data/=std\n",
        "\n",
        "train_data[1]"
      ],
      "metadata": {
        "colab": {
          "base_uri": "https://localhost:8080/"
        },
        "id": "O-jVYUMv_HB1",
        "outputId": "76112ebb-3922-46b8-d995-cb5522270b29"
      },
      "execution_count": 3,
      "outputs": [
        {
          "output_type": "execute_result",
          "data": {
            "text/plain": [
              "array([-0.40342651,  2.99178419, -1.33391162, -0.25683275, -1.21518188,\n",
              "        1.89434613, -1.91036058,  1.24758524, -0.85646254, -0.34843254,\n",
              "       -1.71818909,  0.43190599, -1.32920239])"
            ]
          },
          "metadata": {},
          "execution_count": 3
        }
      ]
    },
    {
      "cell_type": "code",
      "source": [
        "from tensorflow import keras\n",
        "from keras import layers\n",
        "\n",
        "def build_model():    \n",
        "    model = keras.Sequential([\n",
        "        layers.Dense(64,activation=\"relu\"),\n",
        "        layers.Dense(64,activation=\"relu\"),\n",
        "        layers.Dense(1)\n",
        "        ])\n",
        "    model.compile(optimizer=\"rmsprop\",\n",
        "                metrics=[\"mae\"],\n",
        "                loss = \"mse\")\n",
        "    return model\n",
        "      "
      ],
      "metadata": {
        "id": "vFceLLpE_RZn"
      },
      "execution_count": 5,
      "outputs": []
    },
    {
      "cell_type": "code",
      "source": [
        "#since we have little data, we can't rely on random spliting the data to validation and test, since the results may be depended in the random selection f the data points, therefore we\n",
        "#will split the data in 4 different ways and take the average validation score"
      ],
      "metadata": {
        "id": "ZFhDIT6m_ZLW"
      },
      "execution_count": 6,
      "outputs": []
    },
    {
      "cell_type": "code",
      "source": [
        "k = 4\n",
        "num_of_samples = train_data.shape[0] // k\n",
        "epochs=200\n",
        "score = []\n",
        "\n",
        "for i in range(k):\n",
        "    val_data = train_data[i*num_of_samples:(i+1)*num_of_samples]\n",
        "    val_targets = train_targets[i*num_of_samples:(i+1)*num_of_samples]\n",
        "    temp_train_data = np.concatenate((train_data[:num_of_samples*i],train_data[(i+1)*num_of_samples:]),axis=0)\n",
        "    temp_train_targets = np.concatenate((train_targets[:num_of_samples*i],train_targets[(i+1)*num_of_samples:]),axis=0)\n",
        "    model = build_model()\n",
        "    model.fit(temp_train_data,\n",
        "              temp_train_targets,\n",
        "              epochs=epochs,\n",
        "              batch_size=16,\n",
        "              verbose=0)\n",
        "    val_mse, val_mae = model.evaluate(val_data,val_targets)\n",
        "    print(val_mse,val_mae)\n",
        "    score.append(val_mae)\n",
        "    "
      ],
      "metadata": {
        "colab": {
          "base_uri": "https://localhost:8080/"
        },
        "id": "-cFw9a9E_dtG",
        "outputId": "8c883bc6-92cd-4e60-e5cd-c95292b1007a"
      },
      "execution_count": 7,
      "outputs": [
        {
          "output_type": "stream",
          "name": "stdout",
          "text": [
            "4/4 [==============================] - 0s 6ms/step - loss: 7.5590 - mae: 2.0200\n",
            "7.559030532836914 2.020019292831421\n",
            "4/4 [==============================] - 0s 4ms/step - loss: 14.4383 - mae: 2.8377\n",
            "14.438315391540527 2.837655544281006\n",
            "4/4 [==============================] - 0s 5ms/step - loss: 13.8728 - mae: 2.5240\n",
            "13.872838020324707 2.5239903926849365\n",
            "4/4 [==============================] - 0s 4ms/step - loss: 11.9272 - mae: 2.3900\n",
            "11.927212715148926 2.390002489089966\n"
          ]
        }
      ]
    },
    {
      "cell_type": "code",
      "source": [
        "np.mean(score)"
      ],
      "metadata": {
        "colab": {
          "base_uri": "https://localhost:8080/"
        },
        "id": "P35pQz6Q_fgP",
        "outputId": "99115617-88fa-4f0c-b1eb-8d777baebba9"
      },
      "execution_count": 8,
      "outputs": [
        {
          "output_type": "execute_result",
          "data": {
            "text/plain": [
              "2.4429169297218323"
            ]
          },
          "metadata": {},
          "execution_count": 8
        }
      ]
    },
    {
      "cell_type": "code",
      "source": [
        "#so the error is 10%, let's see if we can reduce it by adding more epochs, we will also monitor the validation error by using the history \n",
        "\n",
        "k = 4\n",
        "num_of_samples = train_data.shape[0] // k\n",
        "epochs=500\n",
        "all_mae_histories = []\n",
        "\n",
        "for i in range(k):\n",
        "    val_data = train_data[i*num_of_samples:(i+1)*num_of_samples]\n",
        "    val_targets = train_targets[i*num_of_samples:(i+1)*num_of_samples]\n",
        "    temp_train_data = np.concatenate((train_data[:num_of_samples*i],train_data[(i+1)*num_of_samples:]),axis=0)\n",
        "    temp_train_targets = np.concatenate((train_targets[:num_of_samples*i],train_targets[(i+1)*num_of_samples:]),axis=0)\n",
        "    model = build_model()\n",
        "    history = model.fit(temp_train_data,\n",
        "              temp_train_targets,\n",
        "              epochs=epochs,\n",
        "              batch_size=16,\n",
        "              verbose=0,\n",
        "              validation_data = (val_data,val_targets)\n",
        "                       )\n",
        "    print(i)\n",
        "    mae_history = history.history[\"val_mae\"]\n",
        "    all_mae_histories.append(mae_history)\n",
        "    "
      ],
      "metadata": {
        "colab": {
          "base_uri": "https://localhost:8080/"
        },
        "id": "BDc_p7ii_hJG",
        "outputId": "efeb0caf-f6ba-429c-e647-6f4ee00c765d"
      },
      "execution_count": 9,
      "outputs": [
        {
          "output_type": "stream",
          "name": "stdout",
          "text": [
            "0\n",
            "1\n",
            "2\n",
            "3\n"
          ]
        }
      ]
    },
    {
      "cell_type": "code",
      "source": [
        "all_histories_avg = np.zeros(epochs)\n",
        "for i in (all_mae_histories):\n",
        "    all_histories_avg+=i\n",
        "    \n",
        "all_histories_avg/=len(all_mae_histories)\n",
        "    "
      ],
      "metadata": {
        "id": "qtX2yKmB_jaG"
      },
      "execution_count": 10,
      "outputs": []
    },
    {
      "cell_type": "code",
      "source": [
        "import matplotlib.pyplot as plt\n",
        "plt.figure(figsize = (8,6))\n",
        "plt.plot(all_histories_avg)\n",
        "plt.show()"
      ],
      "metadata": {
        "colab": {
          "base_uri": "https://localhost:8080/",
          "height": 522
        },
        "id": "jZ4MbVgk_sMX",
        "outputId": "0487c829-bf73-4859-f336-99044996d9a6"
      },
      "execution_count": 11,
      "outputs": [
        {
          "output_type": "display_data",
          "data": {
            "text/plain": [
              "<Figure size 800x600 with 1 Axes>"
            ],
            "image/png": "[encoded data removed]"
          },
          "metadata": {}
        }
      ]
    },
    {
      "cell_type": "code",
      "source": [
        "#to better see the graph I will truncate the first epochs\n",
        "all_histories_avg_trunced = all_histories_avg[30:]\n",
        "plt.figure(figsize = (8,4))\n",
        "plt.plot(all_histories_avg_trunced)\n",
        "plt.show()\n"
      ],
      "metadata": {
        "colab": {
          "base_uri": "https://localhost:8080/",
          "height": 368
        },
        "id": "h3QoKhjs_wTQ",
        "outputId": "ab6f8a61-aa87-48fa-fe66-2e195b8d701e"
      },
      "execution_count": 15,
      "outputs": [
        {
          "output_type": "display_data",
          "data": {
            "text/plain": [
              "<Figure size 800x400 with 1 Axes>"
            ],
            "image/png": "[encoded data removed]"
          },
          "metadata": {}
        }
      ]
    },
    {
      "cell_type": "code",
      "source": [
        "# so it looks like the best results is at 100 epochs, let;s train the final model\n"
      ],
      "metadata": {
        "id": "QSy3m_jUBDYN"
      },
      "execution_count": 16,
      "outputs": []
    },
    {
      "cell_type": "code",
      "source": [
        "model = build_model()\n",
        "model.fit(train_data,train_targets,\n",
        "          epochs=100,\n",
        "          batch_size=16,\n",
        "          verbose=1)"
      ],
      "metadata": {
        "colab": {
          "base_uri": "https://localhost:8080/"
        },
        "id": "qlAJbsS_BR3Z",
        "outputId": "7028d50c-40cf-476d-916b-e1925cf922cb"
      },
      "execution_count": 17,
      "outputs": [
        {
          "output_type": "stream",
          "name": "stdout",
          "text": [
            "Epoch 1/100\n",
            "26/26 [==============================] - 1s 3ms/step - loss: 489.3749 - mae: 20.0652\n",
            "Epoch 2/100\n",
            "26/26 [==============================] - 0s 3ms/step - loss: 308.2211 - mae: 15.1669\n",
            "Epoch 3/100\n",
            "26/26 [==============================] - 0s 3ms/step - loss: 140.2316 - mae: 9.4806\n",
            "Epoch 4/100\n",
            "26/26 [==============================] - 0s 3ms/step - loss: 65.3628 - mae: 5.8711\n",
            "Epoch 5/100\n",
            "26/26 [==============================] - 0s 3ms/step - loss: 40.6413 - mae: 4.4649\n",
            "Epoch 6/100\n",
            "26/26 [==============================] - 0s 3ms/step - loss: 30.7116 - mae: 3.8239\n",
            "Epoch 7/100\n",
            "26/26 [==============================] - 0s 3ms/step - loss: 25.2862 - mae: 3.5713\n",
            "Epoch 8/100\n",
            "26/26 [==============================] - 0s 4ms/step - loss: 22.2303 - mae: 3.2629\n",
            "Epoch 9/100\n",
            "26/26 [==============================] - 0s 4ms/step - loss: 19.9422 - mae: 3.0930\n",
            "Epoch 10/100\n",
            "26/26 [==============================] - 0s 5ms/step - loss: 18.0060 - mae: 2.9458\n",
            "Epoch 11/100\n",
            "26/26 [==============================] - 0s 4ms/step - loss: 16.3672 - mae: 2.7867\n",
            "Epoch 12/100\n",
            "26/26 [==============================] - 0s 5ms/step - loss: 14.9126 - mae: 2.6563\n",
            "Epoch 13/100\n",
            "26/26 [==============================] - 0s 4ms/step - loss: 13.9580 - mae: 2.6070\n",
            "Epoch 14/100\n",
            "26/26 [==============================] - 0s 5ms/step - loss: 13.1887 - mae: 2.5034\n",
            "Epoch 15/100\n",
            "26/26 [==============================] - 0s 4ms/step - loss: 12.6377 - mae: 2.4845\n",
            "Epoch 16/100\n",
            "26/26 [==============================] - 0s 4ms/step - loss: 12.0397 - mae: 2.4143\n",
            "Epoch 17/100\n",
            "26/26 [==============================] - 0s 4ms/step - loss: 11.5699 - mae: 2.3486\n",
            "Epoch 18/100\n",
            "26/26 [==============================] - 0s 5ms/step - loss: 11.1610 - mae: 2.3335\n",
            "Epoch 19/100\n",
            "26/26 [==============================] - 0s 4ms/step - loss: 10.8146 - mae: 2.2824\n",
            "Epoch 20/100\n",
            "26/26 [==============================] - 0s 4ms/step - loss: 10.6977 - mae: 2.3027\n",
            "Epoch 21/100\n",
            "26/26 [==============================] - 0s 5ms/step - loss: 10.2406 - mae: 2.2824\n",
            "Epoch 22/100\n",
            "26/26 [==============================] - 0s 4ms/step - loss: 10.2441 - mae: 2.2203\n",
            "Epoch 23/100\n",
            "26/26 [==============================] - 0s 4ms/step - loss: 10.3240 - mae: 2.2355\n",
            "Epoch 24/100\n",
            "26/26 [==============================] - 0s 4ms/step - loss: 9.9994 - mae: 2.2131\n",
            "Epoch 25/100\n",
            "26/26 [==============================] - 0s 5ms/step - loss: 9.6307 - mae: 2.1552\n",
            "Epoch 26/100\n",
            "26/26 [==============================] - 0s 5ms/step - loss: 9.6146 - mae: 2.2082\n",
            "Epoch 27/100\n",
            "26/26 [==============================] - 0s 4ms/step - loss: 9.4764 - mae: 2.1644\n",
            "Epoch 28/100\n",
            "26/26 [==============================] - 0s 5ms/step - loss: 9.3923 - mae: 2.1187\n",
            "Epoch 29/100\n",
            "26/26 [==============================] - 0s 4ms/step - loss: 9.2220 - mae: 2.1197\n",
            "Epoch 30/100\n",
            "26/26 [==============================] - 0s 3ms/step - loss: 8.9461 - mae: 2.0827\n",
            "Epoch 31/100\n",
            "26/26 [==============================] - 0s 3ms/step - loss: 8.9472 - mae: 2.0996\n",
            "Epoch 32/100\n",
            "26/26 [==============================] - 0s 3ms/step - loss: 9.1274 - mae: 2.0984\n",
            "Epoch 33/100\n",
            "26/26 [==============================] - 0s 3ms/step - loss: 8.7981 - mae: 2.0614\n",
            "Epoch 34/100\n",
            "26/26 [==============================] - 0s 3ms/step - loss: 8.7197 - mae: 2.0730\n",
            "Epoch 35/100\n",
            "26/26 [==============================] - 0s 3ms/step - loss: 8.7551 - mae: 2.0660\n",
            "Epoch 36/100\n",
            "26/26 [==============================] - 0s 3ms/step - loss: 8.4771 - mae: 2.0078\n",
            "Epoch 37/100\n",
            "26/26 [==============================] - 0s 3ms/step - loss: 8.5150 - mae: 1.9919\n",
            "Epoch 38/100\n",
            "26/26 [==============================] - 0s 3ms/step - loss: 8.4106 - mae: 2.0175\n",
            "Epoch 39/100\n",
            "26/26 [==============================] - 0s 3ms/step - loss: 8.3248 - mae: 2.0005\n",
            "Epoch 40/100\n",
            "26/26 [==============================] - 0s 3ms/step - loss: 8.2051 - mae: 1.9923\n",
            "Epoch 41/100\n",
            "26/26 [==============================] - 0s 3ms/step - loss: 8.1038 - mae: 1.9747\n",
            "Epoch 42/100\n",
            "26/26 [==============================] - 0s 3ms/step - loss: 8.1722 - mae: 1.9831\n",
            "Epoch 43/100\n",
            "26/26 [==============================] - 0s 3ms/step - loss: 7.9747 - mae: 1.9402\n",
            "Epoch 44/100\n",
            "26/26 [==============================] - 0s 3ms/step - loss: 8.1903 - mae: 1.9653\n",
            "Epoch 45/100\n",
            "26/26 [==============================] - 0s 3ms/step - loss: 7.6274 - mae: 1.9048\n",
            "Epoch 46/100\n",
            "26/26 [==============================] - 0s 3ms/step - loss: 7.6687 - mae: 1.9303\n",
            "Epoch 47/100\n",
            "26/26 [==============================] - 0s 3ms/step - loss: 7.7470 - mae: 1.9218\n",
            "Epoch 48/100\n",
            "26/26 [==============================] - 0s 4ms/step - loss: 7.4824 - mae: 1.9031\n",
            "Epoch 49/100\n",
            "26/26 [==============================] - 0s 3ms/step - loss: 7.5167 - mae: 1.9342\n",
            "Epoch 50/100\n",
            "26/26 [==============================] - 0s 3ms/step - loss: 7.4273 - mae: 1.8805\n",
            "Epoch 51/100\n",
            "26/26 [==============================] - 0s 4ms/step - loss: 7.3068 - mae: 1.8841\n",
            "Epoch 52/100\n",
            "26/26 [==============================] - 0s 3ms/step - loss: 7.5043 - mae: 1.8687\n",
            "Epoch 53/100\n",
            "26/26 [==============================] - 0s 3ms/step - loss: 7.4603 - mae: 1.8731\n",
            "Epoch 54/100\n",
            "26/26 [==============================] - 0s 3ms/step - loss: 7.2851 - mae: 1.8367\n",
            "Epoch 55/100\n",
            "26/26 [==============================] - 0s 4ms/step - loss: 7.1269 - mae: 1.8463\n",
            "Epoch 56/100\n",
            "26/26 [==============================] - 0s 3ms/step - loss: 7.3618 - mae: 1.8847\n",
            "Epoch 57/100\n",
            "26/26 [==============================] - 0s 3ms/step - loss: 7.1738 - mae: 1.8295\n",
            "Epoch 58/100\n",
            "26/26 [==============================] - 0s 3ms/step - loss: 7.1263 - mae: 1.8673\n",
            "Epoch 59/100\n",
            "26/26 [==============================] - 0s 3ms/step - loss: 6.9643 - mae: 1.8111\n",
            "Epoch 60/100\n",
            "26/26 [==============================] - 0s 3ms/step - loss: 7.0145 - mae: 1.8209\n",
            "Epoch 61/100\n",
            "26/26 [==============================] - 0s 3ms/step - loss: 6.9655 - mae: 1.8239\n",
            "Epoch 62/100\n",
            "26/26 [==============================] - 0s 3ms/step - loss: 7.0079 - mae: 1.8328\n",
            "Epoch 63/100\n",
            "26/26 [==============================] - 0s 3ms/step - loss: 6.6836 - mae: 1.7969\n",
            "Epoch 64/100\n",
            "26/26 [==============================] - 0s 3ms/step - loss: 6.8211 - mae: 1.8251\n",
            "Epoch 65/100\n",
            "26/26 [==============================] - 0s 3ms/step - loss: 6.6732 - mae: 1.7594\n",
            "Epoch 66/100\n",
            "26/26 [==============================] - 0s 3ms/step - loss: 6.7056 - mae: 1.8001\n",
            "Epoch 67/100\n",
            "26/26 [==============================] - 0s 3ms/step - loss: 6.6936 - mae: 1.7911\n",
            "Epoch 68/100\n",
            "26/26 [==============================] - 0s 3ms/step - loss: 6.5493 - mae: 1.7773\n",
            "Epoch 69/100\n",
            "26/26 [==============================] - 0s 3ms/step - loss: 6.3559 - mae: 1.8061\n",
            "Epoch 70/100\n",
            "26/26 [==============================] - 0s 3ms/step - loss: 6.4009 - mae: 1.7458\n",
            "Epoch 71/100\n",
            "26/26 [==============================] - 0s 4ms/step - loss: 6.3359 - mae: 1.7435\n",
            "Epoch 72/100\n",
            "26/26 [==============================] - 0s 3ms/step - loss: 6.2254 - mae: 1.7862\n",
            "Epoch 73/100\n",
            "26/26 [==============================] - 0s 3ms/step - loss: 6.3822 - mae: 1.7673\n",
            "Epoch 74/100\n",
            "26/26 [==============================] - 0s 3ms/step - loss: 6.2086 - mae: 1.7126\n",
            "Epoch 75/100\n",
            "26/26 [==============================] - 0s 3ms/step - loss: 6.3308 - mae: 1.7623\n",
            "Epoch 76/100\n",
            "26/26 [==============================] - 0s 3ms/step - loss: 6.0680 - mae: 1.7024\n",
            "Epoch 77/100\n",
            "26/26 [==============================] - 0s 3ms/step - loss: 6.0032 - mae: 1.7147\n",
            "Epoch 78/100\n",
            "26/26 [==============================] - 0s 3ms/step - loss: 6.0553 - mae: 1.7187\n",
            "Epoch 79/100\n",
            "26/26 [==============================] - 0s 3ms/step - loss: 6.0266 - mae: 1.6990\n",
            "Epoch 80/100\n",
            "26/26 [==============================] - 0s 3ms/step - loss: 5.9596 - mae: 1.7037\n",
            "Epoch 81/100\n",
            "26/26 [==============================] - 0s 4ms/step - loss: 5.9760 - mae: 1.6913\n",
            "Epoch 82/100\n",
            "26/26 [==============================] - 0s 3ms/step - loss: 5.8026 - mae: 1.6570\n",
            "Epoch 83/100\n",
            "26/26 [==============================] - 0s 3ms/step - loss: 5.8526 - mae: 1.7052\n",
            "Epoch 84/100\n",
            "26/26 [==============================] - 0s 3ms/step - loss: 5.9713 - mae: 1.6823\n",
            "Epoch 85/100\n",
            "26/26 [==============================] - 0s 3ms/step - loss: 5.6892 - mae: 1.6796\n",
            "Epoch 86/100\n",
            "26/26 [==============================] - 0s 3ms/step - loss: 5.8677 - mae: 1.6715\n",
            "Epoch 87/100\n",
            "26/26 [==============================] - 0s 3ms/step - loss: 5.6340 - mae: 1.6560\n",
            "Epoch 88/100\n",
            "26/26 [==============================] - 0s 3ms/step - loss: 5.6974 - mae: 1.6616\n",
            "Epoch 89/100\n",
            "26/26 [==============================] - 0s 3ms/step - loss: 5.5984 - mae: 1.6570\n",
            "Epoch 90/100\n",
            "26/26 [==============================] - 0s 3ms/step - loss: 5.6416 - mae: 1.6636\n",
            "Epoch 91/100\n",
            "26/26 [==============================] - 0s 3ms/step - loss: 5.5864 - mae: 1.6369\n",
            "Epoch 92/100\n",
            "26/26 [==============================] - 0s 3ms/step - loss: 5.4482 - mae: 1.6048\n",
            "Epoch 93/100\n",
            "26/26 [==============================] - 0s 3ms/step - loss: 5.3881 - mae: 1.6366\n",
            "Epoch 94/100\n",
            "26/26 [==============================] - 0s 3ms/step - loss: 5.6304 - mae: 1.6637\n",
            "Epoch 95/100\n",
            "26/26 [==============================] - 0s 3ms/step - loss: 5.3796 - mae: 1.6273\n",
            "Epoch 96/100\n",
            "26/26 [==============================] - 0s 3ms/step - loss: 5.3181 - mae: 1.6029\n",
            "Epoch 97/100\n",
            "26/26 [==============================] - 0s 3ms/step - loss: 5.3039 - mae: 1.6176\n",
            "Epoch 98/100\n",
            "26/26 [==============================] - 0s 3ms/step - loss: 5.4658 - mae: 1.6209\n",
            "Epoch 99/100\n",
            "26/26 [==============================] - 0s 3ms/step - loss: 5.3316 - mae: 1.5930\n",
            "Epoch 100/100\n",
            "26/26 [==============================] - 0s 3ms/step - loss: 5.2679 - mae: 1.5946\n"
          ]
        },
        {
          "output_type": "execute_result",
          "data": {
            "text/plain": [
              "<keras.callbacks.History at 0x7fe3663654c0>"
            ]
          },
          "metadata": {},
          "execution_count": 17
        }
      ]
    },
    {
      "cell_type": "code",
      "source": [
        "test_mae,test_mse = model.evaluate(test_data,test_targets)\n",
        "print(test_mae,test_mse)"
      ],
      "metadata": {
        "colab": {
          "base_uri": "https://localhost:8080/"
        },
        "id": "Ae-mtxwnBjXA",
        "outputId": "7eda6555-200d-4766-a2f7-d3f45b71b75d"
      },
      "execution_count": 18,
      "outputs": [
        {
          "output_type": "stream",
          "name": "stdout",
          "text": [
            "4/4 [==============================] - 0s 4ms/step - loss: 15.4431 - mae: 2.4581\n",
            "15.443086624145508 2.458087682723999\n"
          ]
        }
      ]
    },
    {
      "cell_type": "code",
      "source": [],
      "metadata": {
        "id": "TlG4FygrB37g"
      },
      "execution_count": null,
      "outputs": []
    }
  ]
}